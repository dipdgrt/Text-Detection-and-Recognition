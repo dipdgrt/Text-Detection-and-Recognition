{
 "cells": [
  {
   "cell_type": "code",
   "execution_count": 4,
   "metadata": {
    "colab": {
     "base_uri": "https://localhost:8080/"
    },
    "id": "qkKFpH0onoUM",
    "outputId": "d276678a-d865-4422-fea6-6529f6a48284"
   },
   "outputs": [
    {
     "name": "stderr",
     "output_type": "stream",
     "text": [
      "C:\\Users\\dipdg\\AppData\\Roaming\\Python\\Python37\\site-packages\\numpy\\_distributor_init.py:32: UserWarning: loaded more than 1 DLL from .libs:\n",
      "C:\\Users\\dipdg\\AppData\\Roaming\\Python\\Python37\\site-packages\\numpy\\.libs\\libopenblas.JPIJNSWNNAN3CE6LLI5FWSPHUT2VXMTH.gfortran-win_amd64.dll\n",
      "C:\\Users\\dipdg\\AppData\\Roaming\\Python\\Python37\\site-packages\\numpy\\.libs\\libopenblas.WCDJNK7YVMPZQ2ME2ZZHJJRJ3JIKNDB7.gfortran-win_amd64.dll\n",
      "  stacklevel=1)\n"
     ]
    }
   ],
   "source": [
    "#!pip install tf_slim\n",
    "#!pip install pytesseract\n",
    "#!sudo apt install tesseract-ocr\n",
    "\n",
    "import numpy as np\n",
    "import cv2\n",
    "import os\n",
    "import math\n",
    "import random\n",
    "import tensorflow as tf\n",
    "import re\n",
    "\n",
    "import tf_slim as slim\n",
    "\n",
    "from tensorflow.keras.models import Model\n",
    "from tensorflow.keras.layers import Conv2D, concatenate, BatchNormalization, Lambda, Input, multiply, add, ZeroPadding2D, Activation, Layer, MaxPooling2D, Dropout\n",
    "from tensorflow.keras import regularizers\n",
    "import tensorflow.keras.backend as K\n",
    "\n",
    "from PIL import Image, ImageDraw\n",
    "import os\n",
    "import random\n",
    "from tqdm import tqdm\n",
    "\n",
    "from tensorflow.keras.preprocessing import image\n",
    "from tensorflow.keras.applications.vgg16 import preprocess_input\n",
    "\n",
    "\n",
    "#from google.colab.patches import cv2_imshow\n",
    "from imutils.object_detection import non_max_suppression\n",
    "import matplotlib.pyplot as plt\n",
    "\n",
    "import re\n",
    "import math\n",
    "from PIL import Image, ImageDraw\n",
    "from PIL import ImagePath\n",
    "import pandas as pd\n",
    "import os\n",
    "from os import path\n",
    "from tqdm import tqdm\n",
    "import json\n",
    "import cv2\n",
    "import numpy as np\n",
    "import matplotlib.pyplot as plt\n",
    "import urllib\n",
    "import time\n",
    "import pytesseract\n",
    "from imutils.object_detection import non_max_suppression\n",
    "import time\n",
    "from tqdm import tqdm"
   ]
  },
  {
   "cell_type": "code",
   "execution_count": 5,
   "metadata": {
    "id": "dkUejZRjsaBo"
   },
   "outputs": [],
   "source": [
    "split_rate = 0.1\n",
    "data_dir = 'Final'\n",
    "IMG_SIZE = 512\n",
    "SRK_RATE = 0.1\n",
    "input_size= 512\n",
    "input_size=512\n",
    "feature_layers_range = range(5, 1, -1)\n",
    "feature_layers_num = len(feature_layers_range)\n",
    "locked_layers = False"
   ]
  },
  {
   "cell_type": "code",
   "execution_count": null,
   "metadata": {},
   "outputs": [],
   "source": []
  },
  {
   "cell_type": "code",
   "execution_count": null,
   "metadata": {},
   "outputs": [],
   "source": [
    "from keras import Input, Model\n",
    "from keras.applications.vgg16 import VGG16\n",
    "from keras.layers import Concatenate, Conv2D, UpSampling2D, BatchNormalization\n",
    "import cfg\n",
    "\n",
    "\"\"\"\n",
    "input_shape=(img.height, img.width, 3), height and width must scaled by 32.\n",
    "So images's height and width need to be pre-processed to the nearest num that\n",
    "scaled by 32.And the annotations xy need to be scaled by the same ratio \n",
    "as height and width respectively.\n",
    "\"\"\"\n",
    "\n",
    "\n",
    "class East:\n",
    "\n",
    "    def __init__(self):\n",
    "        self.input_img = Input(name='input_img',\n",
    "                               shape=(None, None, 3),\n",
    "                               dtype='float32')\n",
    "        vgg16 = VGG16(input_tensor=self.input_img,\n",
    "                      weights='imagenet',\n",
    "                      include_top=False)\n",
    "        if cfg.locked_layers:\n",
    "            # locked first two conv layers\n",
    "            locked_layers = [vgg16.get_layer('block1_conv1'),\n",
    "                             vgg16.get_layer('block1_conv2')]\n",
    "            for layer in locked_layers:\n",
    "                layer.trainable = False\n",
    "        self.f = [vgg16.get_layer('block%d_pool' % i).output\n",
    "                  for i in feature_layers_range]\n",
    "        self.f.insert(0, None)\n",
    "        self.diff = feature_layers_range[0] - cfg.feature_layers_num\n",
    "\n",
    "    def g(self, i):\n",
    "        # i+diff in feature_layers_range\n",
    "        assert i + self.diff in cfg.feature_layers_range, \\\n",
    "            ('i=%d+diff=%d not in ' % (i, self.diff)) + \\\n",
    "            str(feature_layers_range)\n",
    "        if i == feature_layers_num:\n",
    "            bn = BatchNormalization()(self.h(i))\n",
    "            return Conv2D(32, 3, activation='relu', padding='same')(bn)\n",
    "        else:\n",
    "            return UpSampling2D((2, 2))(self.h(i))\n",
    "\n",
    "    def h(self, i):\n",
    "        # i+diff in feature_layers_range\n",
    "        assert i + self.diff in feature_layers_range, \\\n",
    "            ('i=%d+diff=%d not in ' % (i, self.diff)) + \\\n",
    "            str(feature_layers_range)\n",
    "        if i == 1:\n",
    "            return self.f[i]\n",
    "        else:\n",
    "            concat = Concatenate(axis=-1)([self.g(i - 1), self.f[i]])\n",
    "            bn1 = BatchNormalization()(concat)\n",
    "            conv_1 = Conv2D(128 // 2 ** (i - 2), 1,\n",
    "                            activation='relu', padding='same',)(bn1)\n",
    "            bn2 = BatchNormalization()(conv_1)\n",
    "            conv_3 = Conv2D(128 // 2 ** (i - 2), 3,\n",
    "                            activation='relu', padding='same',)(bn2)\n",
    "            return conv_3\n",
    "\n",
    "    def east_network(self):\n",
    "        before_output = self.g(feature_layers_num)\n",
    "        pred_score_map = Conv2D(1, 1, padding='same',activation=tf.nn.sigmoid, name='pred_score_map'\n",
    "                              )(before_output)\n",
    "        rbox_geo_map = Conv2D(4, 1, padding='same',activation=tf.nn.sigmoid, name='rbox_geo_map'\n",
    "                             )(before_output)\n",
    "        rbox_geo_map = Lambda(lambda x: x * input_size)(rbox_geo_map)                     \n",
    "        angle_map = Conv2D(1, 1, padding='same',activation=tf.nn.sigmoid, name='angle_map'\n",
    "                              )(before_output)\n",
    "        angle_map = Lambda(lambda x: (x - 0.5) * np.pi / 2)(angle_map)\n",
    "        pred_geo_map = concatenate([rbox_geo_map, angle_map], axis=3, name='pred_geo_map')                      \n",
    "        pred_geo_map = concatenate([rbox_geo_map, angle_map], axis=3, name='pred_geo_map')\n",
    "        \n",
    "        return Model(inputs=self.input_img, outputs=concatenate([pred_score_map,pred_geo_map],axis=3))\n",
    "\n",
    "\n",
    "if __name__ == '__main__':\n",
    "    east = East()\n",
    "    east_network = east.east_network()\n",
    "    east_network.summary()"
   ]
  },
  {
   "cell_type": "code",
   "execution_count": null,
   "metadata": {},
   "outputs": [],
   "source": [
    "model = tf.keras.models.load_model('My_EAST_Model.h5',compile=False)"
   ]
  },
  {
   "cell_type": "code",
   "execution_count": 6,
   "metadata": {
    "id": "5EbFzCPasi3E"
   },
   "outputs": [],
   "source": [
    "model.input.set_shape((1, 512, 512, 3))"
   ]
  },
  {
   "cell_type": "code",
   "execution_count": 13,
   "metadata": {
    "id": "qb6vq0aOs14m"
   },
   "outputs": [],
   "source": [
    "def resize_with_padding(img, points, output_width, output_height):\n",
    "    div = 1.0 * output_width / output_height\n",
    "    input_height, input_width, _ = img.shape\n",
    "    scale = 1.0\n",
    "    if input_width == div * input_height:\n",
    "        img = cv2.resize(img, (int(output_width), int(output_height)))\n",
    "    elif input_width > div * input_height:\n",
    "        padding = int((input_width / div - input_height) / 2)\n",
    "        points[0][1] = points[0][1] + padding\n",
    "        points[1][1] = points[1][1] + padding\n",
    "        points[2][1] = points[2][1] + padding\n",
    "        points[3][1] = points[3][1] + padding\n",
    "        scale = 1.0 * input_width / output_width\n",
    "        img = cv2.copyMakeBorder(img, padding, int(input_width / div - input_height - padding), 0, 0,\n",
    "                                 cv2.BORDER_CONSTANT, value=[0, 0, 0])\n",
    "    else:\n",
    "        padding = int((div * input_height - input_width) / 2)\n",
    "        points[0][0] = points[0][0] + padding\n",
    "        points[1][0] = points[1][0] + padding\n",
    "        points[2][0] = points[2][0] + padding\n",
    "        points[3][0] = points[3][0] + padding\n",
    "        scale = 1.0 * input_height / output_height\n",
    "        img = cv2.copyMakeBorder(img, 0, 0, padding, int(input_height * div - input_width - padding),\n",
    "                                 cv2.BORDER_CONSTANT, value=[0, 0, 0])\n",
    "    img = cv2.resize(img, (output_width, output_height))\n",
    "    points = np.array(points) / scale\n",
    "    return img, points.astype('int')"
   ]
  },
  {
   "cell_type": "code",
   "execution_count": 14,
   "metadata": {
    "id": "YJ4sfZ9Zs17s"
   },
   "outputs": [],
   "source": [
    "from shapely.geometry import Polygon"
   ]
  },
  {
   "cell_type": "code",
   "execution_count": 15,
   "metadata": {
    "id": "PeMD3v9Es1-j"
   },
   "outputs": [],
   "source": [
    "def intersection(g, p):\n",
    "    g = Polygon(g[:8].reshape((4, 2)))\n",
    "    p = Polygon(p[:8].reshape((4, 2)))\n",
    "    if not g.is_valid or not p.is_valid:\n",
    "        return 0\n",
    "    inter = Polygon(g).intersection(Polygon(p)).area\n",
    "    union = g.area + p.area - inter\n",
    "    if union == 0:\n",
    "        return 0\n",
    "    else:\n",
    "        return inter / union"
   ]
  },
  {
   "cell_type": "code",
   "execution_count": 16,
   "metadata": {
    "id": "NXiFRA86s2Bj"
   },
   "outputs": [],
   "source": [
    "def weighted_merge(g, p):\n",
    "    g[:8] = (g[8] * g[:8] + p[8] * p[:8]) / (g[8] + p[8])\n",
    "    g[8] = (g[8] + p[8])\n",
    "    return g"
   ]
  },
  {
   "cell_type": "code",
   "execution_count": 17,
   "metadata": {
    "id": "tAwzsCO_tPYI"
   },
   "outputs": [],
   "source": [
    "def standard_nms(S, thres):\n",
    "    order = np.argsort(S[:, 8])[::-1]\n",
    "    keep = []\n",
    "    while order.size > 0:\n",
    "        i = order[0]\n",
    "        keep.append(i)\n",
    "        ovr = np.array([intersection(S[i], S[t]) for t in order[1:]])\n",
    "\n",
    "        inds = np.where(ovr <= thres)[0]\n",
    "        order = order[inds + 1]\n",
    "\n",
    "    return S[keep]"
   ]
  },
  {
   "cell_type": "code",
   "execution_count": 18,
   "metadata": {
    "id": "sKyrDxodtRto"
   },
   "outputs": [],
   "source": [
    "def la_nms(polys, thres=0.3):\n",
    "    '''\n",
    "    locality aware nms of EAST\n",
    "    :param polys: a N*9 numpy array. first 8 coordinates, then prob\n",
    "    :return: boxes after nms\n",
    "    '''\n",
    "    S = []\n",
    "    p = None\n",
    "    for g in polys:\n",
    "        if p is not None and intersection(g, p) > thres:\n",
    "            p = weighted_merge(g, p)\n",
    "        else:\n",
    "            if p is not None:\n",
    "                S.append(p)\n",
    "            p = g\n",
    "    if p is not None:\n",
    "        S.append(p)\n",
    "\n",
    "    if len(S) == 0:\n",
    "        return np.array([])\n",
    "    return standard_nms(np.array(S), thres)"
   ]
  },
  {
   "cell_type": "code",
   "execution_count": 19,
   "metadata": {
    "id": "BCkiMD70tUZk"
   },
   "outputs": [],
   "source": [
    "def restore_rectangle(origin, geometry):\n",
    "    d = geometry[:, :4]\n",
    "    angle = geometry[:, 4]\n",
    "    # for angle > 0\n",
    "    origin_0 = origin[angle >= 0]\n",
    "    d_0 = d[angle >= 0]\n",
    "    angle_0 = angle[angle >= 0]\n",
    "    if origin_0.shape[0] > 0:\n",
    "        p = np.array([np.zeros(d_0.shape[0]), -d_0[:, 0] - d_0[:, 2],\n",
    "                      d_0[:, 1] + d_0[:, 3], -d_0[:, 0] - d_0[:, 2],\n",
    "                      d_0[:, 1] + d_0[:, 3], np.zeros(d_0.shape[0]),\n",
    "                      np.zeros(d_0.shape[0]), np.zeros(d_0.shape[0]),\n",
    "                      d_0[:, 3], -d_0[:, 2]])\n",
    "        p = p.transpose((1, 0)).reshape((-1, 5, 2))  # N*5*2\n",
    "\n",
    "        rotate_matrix_x = np.array([np.cos(angle_0), np.sin(angle_0)]).transpose((1, 0))\n",
    "        rotate_matrix_x = np.repeat(rotate_matrix_x, 5, axis=1).reshape(-1, 2, 5).transpose((0, 2, 1))  # N*5*2\n",
    "\n",
    "        rotate_matrix_y = np.array([-np.sin(angle_0), np.cos(angle_0)]).transpose((1, 0))\n",
    "        rotate_matrix_y = np.repeat(rotate_matrix_y, 5, axis=1).reshape(-1, 2, 5).transpose((0, 2, 1))\n",
    "\n",
    "        p_rotate_x = np.sum(rotate_matrix_x * p, axis=2)[:, :, np.newaxis]  # N*5*1\n",
    "        p_rotate_y = np.sum(rotate_matrix_y * p, axis=2)[:, :, np.newaxis]  # N*5*1\n",
    "\n",
    "        p_rotate = np.concatenate([p_rotate_x, p_rotate_y], axis=2)  # N*5*2\n",
    "\n",
    "        p3_in_origin = origin_0 - p_rotate[:, 4, :]\n",
    "        new_p0 = p_rotate[:, 0, :] + p3_in_origin  # N*2\n",
    "        new_p1 = p_rotate[:, 1, :] + p3_in_origin\n",
    "        new_p2 = p_rotate[:, 2, :] + p3_in_origin\n",
    "        new_p3 = p_rotate[:, 3, :] + p3_in_origin\n",
    "\n",
    "        new_p_0 = np.concatenate([new_p0[:, np.newaxis, :], new_p1[:, np.newaxis, :],\n",
    "                                  new_p2[:, np.newaxis, :], new_p3[:, np.newaxis, :]], axis=1)  # N*4*2\n",
    "    else:\n",
    "        new_p_0 = np.zeros((0, 4, 2))\n",
    "    # for angle < 0\n",
    "    origin_1 = origin[angle < 0]\n",
    "    d_1 = d[angle < 0]\n",
    "    angle_1 = angle[angle < 0]\n",
    "    if origin_1.shape[0] > 0:\n",
    "        p = np.array([-d_1[:, 1] - d_1[:, 3], -d_1[:, 0] - d_1[:, 2],\n",
    "                      np.zeros(d_1.shape[0]), -d_1[:, 0] - d_1[:, 2],\n",
    "                      np.zeros(d_1.shape[0]), np.zeros(d_1.shape[0]),\n",
    "                      -d_1[:, 1] - d_1[:, 3], np.zeros(d_1.shape[0]),\n",
    "                      -d_1[:, 1], -d_1[:, 2]])\n",
    "        p = p.transpose((1, 0)).reshape((-1, 5, 2))  # N*5*2\n",
    "\n",
    "        rotate_matrix_x = np.array([np.cos(-angle_1), -np.sin(-angle_1)]).transpose((1, 0))\n",
    "        rotate_matrix_x = np.repeat(rotate_matrix_x, 5, axis=1).reshape(-1, 2, 5).transpose((0, 2, 1))  # N*5*2\n",
    "\n",
    "        rotate_matrix_y = np.array([np.sin(-angle_1), np.cos(-angle_1)]).transpose((1, 0))\n",
    "        rotate_matrix_y = np.repeat(rotate_matrix_y, 5, axis=1).reshape(-1, 2, 5).transpose((0, 2, 1))\n",
    "\n",
    "        p_rotate_x = np.sum(rotate_matrix_x * p, axis=2)[:, :, np.newaxis]  # N*5*1\n",
    "        p_rotate_y = np.sum(rotate_matrix_y * p, axis=2)[:, :, np.newaxis]  # N*5*1\n",
    "\n",
    "        p_rotate = np.concatenate([p_rotate_x, p_rotate_y], axis=2)  # N*5*2\n",
    "\n",
    "        p3_in_origin = origin_1 - p_rotate[:, 4, :]\n",
    "        new_p0 = p_rotate[:, 0, :] + p3_in_origin  # N*2\n",
    "        new_p1 = p_rotate[:, 1, :] + p3_in_origin\n",
    "        new_p2 = p_rotate[:, 2, :] + p3_in_origin\n",
    "        new_p3 = p_rotate[:, 3, :] + p3_in_origin\n",
    "\n",
    "        new_p_1 = np.concatenate([new_p0[:, np.newaxis, :], new_p1[:, np.newaxis, :],\n",
    "                                  new_p2[:, np.newaxis, :], new_p3[:, np.newaxis, :]], axis=1)  # N*4*2\n",
    "    else:\n",
    "        new_p_1 = np.zeros((0, 4, 2))\n",
    "    return np.concatenate([new_p_0, new_p_1])"
   ]
  },
  {
   "cell_type": "code",
   "execution_count": 20,
   "metadata": {
    "id": "4pBPVSmxtcDg"
   },
   "outputs": [],
   "source": [
    "def post_process(score_map, geo_map, score_map_thresh=0.8, box_thresh=0.3, nms_thres=0.1):\n",
    "    if len(score_map.shape) == 4:\n",
    "        score_map = score_map[0, :, :, 0]\n",
    "        geo_map = geo_map[0, :, :, ]\n",
    "    # filter the score map\n",
    "    xy_text = np.argwhere(score_map > score_map_thresh)\n",
    "    # sort the text boxes via the y axis\n",
    "    xy_text = xy_text[np.argsort(xy_text[:, 0])]\n",
    "    # restore\n",
    "    \n",
    "    text_box_restored = restore_rectangle(xy_text[:, ::-1] * 4,\n",
    "                                                         geo_map[xy_text[:, 0], xy_text[:, 1], :])  # N*4*2\n",
    "    print('{} text boxes before nms'.format(text_box_restored.shape[0]))\n",
    "    boxes = np.zeros((text_box_restored.shape[0], 9), dtype=np.float32)\n",
    "    boxes[:, :8] = text_box_restored.reshape((-1, 8))\n",
    "    boxes[:, 8] = score_map[xy_text[:, 0], xy_text[:, 1]]\n",
    "    \n",
    "    # nms part\n",
    "    \n",
    "    boxes = la_nms(boxes.astype(np.float64), nms_thres)\n",
    "    \n",
    "\n",
    "    if boxes.shape[0] == 0:\n",
    "        return None,\n",
    "\n",
    "    # here we filter some low score boxes by the average score map, this is different from the orginal paper\n",
    "    for i, box in enumerate(boxes):\n",
    "        mask = np.zeros_like(score_map, dtype=np.uint8)\n",
    "        cv2.fillPoly(mask, box[:8].reshape((-1, 4, 2)).astype(np.int32) // 4, 1)\n",
    "        boxes[i, 8] = cv2.mean(score_map, mask)[0]\n",
    "    boxes = boxes[boxes[:, 8] > box_thresh]\n",
    "\n",
    "    return boxes"
   ]
  },
  {
   "cell_type": "code",
   "execution_count": 15,
   "metadata": {
    "id": "he619NYBthIH"
   },
   "outputs": [],
   "source": [
    "\n",
    "\n",
    "\n",
    "def load_image(img1,gt,text):\n",
    "    \n",
    "    \n",
    "    Cordinate=gt\n",
    "    GT=text\n",
    "        \n",
    "    img_gt_array = cv2.imread(img1,cv2.IMREAD_UNCHANGED)\n",
    "    im=img_gt_array.copy()\n",
    "    image_mask=bounding_box(img_gt_array,Cordinate,GT)\n",
    "\n",
    "    img_new = cv2.imread(img1)\n",
    "    img_pad,_=resize_with_padding(img_new,np.zeros([4, 2]),512,512)\n",
    "    img2 = image.img_to_array(img_pad)\n",
    "    img_array_pred = preprocess_input(img2)\n",
    "\n",
    "    pred_result=model.predict(np.expand_dims(img_array_pred,0))\n",
    "    scores_pred=pred_result[:, :, :, 0:1]\n",
    "    geometry_pred=pred_result[:, :, :, 1:6]\n",
    "    boxes_pred=post_process(scores_pred,geometry_pred)\n",
    "    boxes_pred = boxes_pred[:, :8].reshape((-1, 4, 2))\n",
    "    new=half = cv2.resize(im, (720, 720), fx = 0.1, fy = 0.1)\n",
    "    dst, pts = resize_with_padding(new, boxes_pred[0], 512, 512) \n",
    "    (H, W) = img_pad.shape[:2]\n",
    "    ## as we are using pretraing EAST weights we had to make the dimentions divisiable by 32 to make it work\n",
    "    ## The default input to the network is 320×320\n",
    "    (newW, newH) = (1280, 720)\n",
    "    rW = W / float(newW)\n",
    "    rH = H / float(newH)\n",
    "    for i in range(1):\n",
    "        startX, startY, endX, endY =cv2.boundingRect(np.int32(pts))\n",
    "    \n",
    "        startX = int(startX * rW) - 2\n",
    "        startY = int(startY * rH) - 1\n",
    "        endX = int(endX * rW) + 2\n",
    "        endY = int(endY * rH) + 2\n",
    "\n",
    "        #If coords are out of the image dimension resizing it\n",
    "        if startX < 0:\n",
    "            startX = 0\n",
    "        if endX > new.shape[1]:\n",
    "            endX = new.shape[1]\n",
    "        if startY < 0:\n",
    "            startY = 0\n",
    "        if endY > new.shape[0]:\n",
    "            endY = new.shape[0]\n",
    "\n",
    "        cv2.rectangle(new, (startX, startY), (endX, endY), (0, 0, 0), 2)\n",
    "    \n",
    "    \n",
    "    \n",
    "    \n",
    "    \n",
    "        \n",
    "    plt.figure(figsize=(50,28))\n",
    "    plt.subplot(131)\n",
    "    plt.title('GT')\n",
    "    plt.imshow(image_mask) \n",
    "    plt.subplot(132)\n",
    "    plt.title('Pred')\n",
    "    plt.imshow(im),\n",
    "        \n",
    "    plt.show()"
   ]
  },
  {
   "cell_type": "code",
   "execution_count": 21,
   "metadata": {
    "id": "Ad4EJ2cstujq"
   },
   "outputs": [],
   "source": [
    "def load_text_recognizer(img,boxes_pred):\n",
    "    pred = []\n",
    "    \n",
    "    configuration = (\"-l eng --oem 1 --psm 7\")\n",
    "    \n",
    "    temp = \"\"\n",
    "    for i in range(boxes_pred.shape[0]):\n",
    "        x,y,w,h =cv2.boundingRect(np.int32(boxes_pred[i]))\n",
    "        crop=img[y:y+h, x:x+w+7]\n",
    "        crop = cv2.cvtColor(crop, cv2.COLOR_BGR2GRAY)\n",
    "        \n",
    "        kernel = np.ones((1, 1), np.uint8)\n",
    "        crop = cv2.dilate(crop, kernel, iterations=1)\n",
    "        crop = cv2.erode(crop, kernel, iterations=1)   \n",
    "        \n",
    "        \n",
    "        temp = pytesseract.image_to_string(crop, config=configuration).strip()\n",
    "        pred.append(temp)\n",
    "        \n",
    "    pred_ = pred.copy()\n",
    "\n",
    "    #Clean predictions\n",
    "    pred = re.sub(r\"\\n\", \" \", \" \".join(pred))\n",
    "    pred = re.sub(r\"\\t\", \" \", pred)\n",
    "    pred = re.sub(r\"[^0-9a-zA-Z]\", \" \", pred)\n",
    "    return pred,pred_"
   ]
  },
  {
   "cell_type": "code",
   "execution_count": 22,
   "metadata": {
    "colab": {
     "base_uri": "https://localhost:8080/"
    },
    "id": "29vftlN4t0ob",
    "outputId": "35660bc0-c351-4498-adf5-3b15b577246b"
   },
   "outputs": [
    {
     "name": "stdout",
     "output_type": "stream",
     "text": [
      "INFO:tensorflow:Assets written to: /tmp/tmp51mtbd2o/assets\n"
     ]
    }
   ],
   "source": [
    "converter = tf.lite.TFLiteConverter.from_keras_model(model)\n",
    "tflite_model = converter.convert()"
   ]
  },
  {
   "cell_type": "code",
   "execution_count": 23,
   "metadata": {
    "colab": {
     "base_uri": "https://localhost:8080/"
    },
    "id": "X8MBc_gOuKSa",
    "outputId": "ef5957d1-0b73-4d7e-ef08-dc4c53bc25a0"
   },
   "outputs": [
    {
     "data": {
      "text/plain": [
       "60353476"
      ]
     },
     "execution_count": 23,
     "metadata": {
      "tags": []
     },
     "output_type": "execute_result"
    }
   ],
   "source": [
    "open('tflite_model.tflite','wb').write(tflite_model)"
   ]
  },
  {
   "cell_type": "code",
   "execution_count": 24,
   "metadata": {
    "id": "x19HEr06qWQd"
   },
   "outputs": [],
   "source": [
    "EAST_quant = tf.lite.Interpreter(model_path=\"tflite_model.tflite\",)\n",
    "EAST_quant.allocate_tensors()"
   ]
  },
  {
   "cell_type": "code",
   "execution_count": 25,
   "metadata": {
    "id": "YT_gq0lkqWaP"
   },
   "outputs": [],
   "source": [
    "input_quant = EAST_quant.get_input_details()\n",
    "output_quant = EAST_quant.get_output_details()"
   ]
  },
  {
   "cell_type": "code",
   "execution_count": 1,
   "metadata": {
    "id": "ewrHgB-HuoVl"
   },
   "outputs": [],
   "source": [
    "def load_image(img1):\n",
    "    \n",
    "    \n",
    "    img_new = cv2.imread(img1)\n",
    "    \n",
    "    img_pad,_=resize_with_padding(img_new,np.zeros([4, 2]),512,512)\n",
    "    im=img_pad.copy()\n",
    "   \n",
    "    img2 = image.img_to_array(img_pad)\n",
    "    img_array_pred = preprocess_input(img2)\n",
    "  \n",
    "    EAST_quant.set_tensor( input_quant[0]['index'],np.expand_dims(img_array_pred,axis=0).astype(np.float32))\n",
    "    \n",
    "    EAST_quant.invoke()\n",
    "    pred_result=EAST_quant.get_tensor(output_quant[0]['index'])\n",
    "    scores_pred=pred_result[:, :, :, 0:1]\n",
    "    geometry_pred=pred_result[:, :, :, 1:6]\n",
    "    boxes_pred=post_process(scores_pred,geometry_pred)\n",
    "    boxes_pred = boxes_pred[:, :8].reshape((-1, 4, 2))\n",
    "    EAST_quant.get_tensor_details\n",
    " \n",
    "    pred1,pred_ = load_text_recognizer(im, boxes_pred)\n",
    "    pred = pred1.lower().split()\n",
    "   \n",
    "\n",
    "\n",
    "    cv2.polylines(img_pad, np.int32(boxes_pred), True, (0, 0, 255))\n",
    "    for i in range( boxes_pred.shape[0]):\n",
    "        startX,startY,endX, endY =cv2.boundingRect(np.int32(boxes_pred[i]))\n",
    "        cv2.putText(img_pad, pred_[i].upper(), (startX, startY-7), cv2.FONT_HERSHEY_SIMPLEX, 0.35, (0,0,255), 1)\n",
    "\n",
    "    return img_pad\n",
    "    "
   ]
  },
  {
   "cell_type": "code",
   "execution_count": null,
   "metadata": {
    "id": "TajQG14w_8S9"
   },
   "outputs": [],
   "source": []
  },
  {
   "cell_type": "code",
   "execution_count": null,
   "metadata": {
    "id": "pDUmD4qU_8WE"
   },
   "outputs": [],
   "source": []
  },
  {
   "cell_type": "code",
   "execution_count": null,
   "metadata": {
    "id": "vJ3zqt6J_8ZZ"
   },
   "outputs": [],
   "source": []
  },
  {
   "cell_type": "code",
   "execution_count": null,
   "metadata": {
    "id": "IikshVay_8cf"
   },
   "outputs": [],
   "source": []
  },
  {
   "cell_type": "code",
   "execution_count": null,
   "metadata": {
    "id": "Vqf4ZUde_8fa"
   },
   "outputs": [],
   "source": []
  },
  {
   "cell_type": "code",
   "execution_count": null,
   "metadata": {
    "id": "E0Q0L8XW_8iR"
   },
   "outputs": [],
   "source": []
  },
  {
   "cell_type": "code",
   "execution_count": null,
   "metadata": {
    "id": "cygCt4Hd_8lS"
   },
   "outputs": [],
   "source": []
  },
  {
   "cell_type": "code",
   "execution_count": null,
   "metadata": {
    "id": "8uIXw3E9_8pG"
   },
   "outputs": [],
   "source": []
  },
  {
   "cell_type": "code",
   "execution_count": null,
   "metadata": {
    "id": "OgUZVYhn_8rs"
   },
   "outputs": [],
   "source": []
  },
  {
   "cell_type": "code",
   "execution_count": null,
   "metadata": {
    "id": "5Xs7nasV_8uS"
   },
   "outputs": [],
   "source": []
  },
  {
   "cell_type": "code",
   "execution_count": null,
   "metadata": {
    "id": "v07Jj1Td_8wu"
   },
   "outputs": [],
   "source": []
  }
 ],
 "metadata": {
  "accelerator": "GPU",
  "colab": {
   "name": "Untitled0.ipynb",
   "provenance": []
  },
  "kernelspec": {
   "display_name": "Python 3",
   "language": "python",
   "name": "python3"
  },
  "language_info": {
   "codemirror_mode": {
    "name": "ipython",
    "version": 3
   },
   "file_extension": ".py",
   "mimetype": "text/x-python",
   "name": "python",
   "nbconvert_exporter": "python",
   "pygments_lexer": "ipython3",
   "version": "3.7.9"
  }
 },
 "nbformat": 4,
 "nbformat_minor": 1
}
